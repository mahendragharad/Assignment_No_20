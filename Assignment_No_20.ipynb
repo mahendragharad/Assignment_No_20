{
  "nbformat": 4,
  "nbformat_minor": 0,
  "metadata": {
    "colab": {
      "provenance": []
    },
    "kernelspec": {
      "name": "python3",
      "display_name": "Python 3"
    },
    "language_info": {
      "name": "python"
    }
  },
  "cells": [
    {
      "cell_type": "markdown",
      "source": [
        "**Question No.1**\n",
        "\n",
        "Create a function that takes a list of strings and integers, and filters out the list so that it returns a list of integers only.\n",
        "Examples\n",
        "\n",
        "* filter_list([1, 2, 3, \"a\", \"b\", 4]) ➞ [1, 2, 3, 4]\n",
        "\n",
        "* filter_list([\"A\", 0, \"Edabit\", 1729, \"Python\", \"1729\"]) ➞ [0, 1729]\n",
        "\n",
        "* filter_list([\"Nothing\", \"here\"]) ➞ []"
      ],
      "metadata": {
        "id": "BUEDYpqXDDsK"
      }
    },
    {
      "cell_type": "code",
      "execution_count": 1,
      "metadata": {
        "id": "hXdQlW_TC1Ew"
      },
      "outputs": [],
      "source": [
        "def filter_list(l) :\n",
        "    b = [x for x in l if type(x) == str ]\n",
        "    for i in b :\n",
        "        if i in l :\n",
        "            l.remove(i)\n",
        "    return l "
      ]
    },
    {
      "cell_type": "code",
      "source": [
        "filter_list([\"A\", 0, \"Edabit\", 1729, \"Python\", \"1729\"])"
      ],
      "metadata": {
        "colab": {
          "base_uri": "https://localhost:8080/"
        },
        "id": "g-g19XWQDUCC",
        "outputId": "f5dd4af8-b2ad-441d-fbdb-f15c5cc60012"
      },
      "execution_count": 6,
      "outputs": [
        {
          "output_type": "execute_result",
          "data": {
            "text/plain": [
              "[0, 1729]"
            ]
          },
          "metadata": {},
          "execution_count": 6
        }
      ]
    },
    {
      "cell_type": "code",
      "source": [
        "filter_list([\"nothing\", \"is\" \"here\"])"
      ],
      "metadata": {
        "colab": {
          "base_uri": "https://localhost:8080/"
        },
        "id": "IzN03hCRDZ2C",
        "outputId": "6ed3ed86-77b3-4b08-efc3-769166f06202"
      },
      "execution_count": 7,
      "outputs": [
        {
          "output_type": "execute_result",
          "data": {
            "text/plain": [
              "[]"
            ]
          },
          "metadata": {},
          "execution_count": 7
        }
      ]
    },
    {
      "cell_type": "markdown",
      "source": [
        "\n",
        "\n",
        "---\n",
        "\n"
      ],
      "metadata": {
        "id": "1bZWs4UCDrva"
      }
    },
    {
      "cell_type": "markdown",
      "source": [
        "**Question No.2**\n",
        "\n",
        "Given a list of numbers, create a function which returns the list but with each element's index in the list added to itself. This means you add 0 to the number at index 0, add 1 to the number at index 1, etc...\n",
        "\n",
        "Examples\n",
        "\n",
        "* add_indexes([0, 0, 0, 0, 0]) ➞ [0, 1, 2, 3, 4]\n",
        "\n",
        "* add_indexes([1, 2, 3, 4, 5]) ➞ [1, 3, 5, 7, 9]\n",
        "\n",
        "* add_indexes([5, 4, 3, 2, 1]) ➞ [5, 5, 5, 5, 5]"
      ],
      "metadata": {
        "id": "CQV0AlgQIgpO"
      }
    },
    {
      "cell_type": "code",
      "source": [
        "def add_indexes( n ) :\n",
        "    for i in range(len(n)) :\n",
        "        n[i] = n[i] + i \n",
        "    return n"
      ],
      "metadata": {
        "id": "k_eVhTt_Dhi6"
      },
      "execution_count": 8,
      "outputs": []
    },
    {
      "cell_type": "code",
      "source": [
        "add_indexes([0,1,2,3,3,5])"
      ],
      "metadata": {
        "colab": {
          "base_uri": "https://localhost:8080/"
        },
        "id": "KGJQyKucMget",
        "outputId": "a3e9a03b-740e-4c63-c3a1-a91754663b1b"
      },
      "execution_count": 9,
      "outputs": [
        {
          "output_type": "execute_result",
          "data": {
            "text/plain": [
              "[0, 2, 4, 6, 7, 10]"
            ]
          },
          "metadata": {},
          "execution_count": 9
        }
      ]
    },
    {
      "cell_type": "code",
      "source": [
        "add_indexes([0,0,0,0,0])"
      ],
      "metadata": {
        "colab": {
          "base_uri": "https://localhost:8080/"
        },
        "id": "jSlhbIoYKBNv",
        "outputId": "c35c608a-c824-4da6-de98-c513f3512e34"
      },
      "execution_count": 10,
      "outputs": [
        {
          "output_type": "execute_result",
          "data": {
            "text/plain": [
              "[0, 1, 2, 3, 4]"
            ]
          },
          "metadata": {},
          "execution_count": 10
        }
      ]
    },
    {
      "cell_type": "markdown",
      "source": [
        "\n",
        "\n",
        "---\n",
        "\n"
      ],
      "metadata": {
        "id": "8_lmIpD_cUI5"
      }
    },
    {
      "cell_type": "markdown",
      "source": [
        "**Question No.3**\n",
        "\n",
        "Create a function that takes the height and radius of a cone as arguments and returns the volume of the cone rounded to the nearest hundredth. See the resources tab for the formula.\n",
        "\n",
        "* cone_volume(3, 2) ➞ 12.57\n",
        "\n",
        "* cone_volume(15, 6) ➞ 565.49\n",
        "\n",
        "* cone_volume(18, 0) ➞ 0\n"
      ],
      "metadata": {
        "id": "C7lnLE6ZfKsr"
      }
    },
    {
      "cell_type": "code",
      "source": [
        "import math \n",
        "def cone_volume(h,r) :\n",
        "    v = 1/3 * math.pi * r**2 * h\n",
        "    volume = round(v,2)\n",
        "    return volume"
      ],
      "metadata": {
        "id": "bJzxDmVvcS_G"
      },
      "execution_count": 11,
      "outputs": []
    },
    {
      "cell_type": "code",
      "source": [
        "cone_volume(3,2)"
      ],
      "metadata": {
        "colab": {
          "base_uri": "https://localhost:8080/"
        },
        "id": "L2IMb1f2fZzz",
        "outputId": "d21b25a3-5e16-4d33-cb91-fde3fef473f7"
      },
      "execution_count": 12,
      "outputs": [
        {
          "output_type": "execute_result",
          "data": {
            "text/plain": [
              "12.57"
            ]
          },
          "metadata": {},
          "execution_count": 12
        }
      ]
    },
    {
      "cell_type": "code",
      "source": [
        "cone_volume(18,6)"
      ],
      "metadata": {
        "colab": {
          "base_uri": "https://localhost:8080/"
        },
        "id": "D_IwpvkifdTb",
        "outputId": "9df24752-af4a-4c6b-8995-96a750b53b76"
      },
      "execution_count": 13,
      "outputs": [
        {
          "output_type": "execute_result",
          "data": {
            "text/plain": [
              "678.58"
            ]
          },
          "metadata": {},
          "execution_count": 13
        }
      ]
    },
    {
      "cell_type": "code",
      "source": [
        "cone_volume(18,0)"
      ],
      "metadata": {
        "colab": {
          "base_uri": "https://localhost:8080/"
        },
        "id": "9mVT-wJOfgqU",
        "outputId": "e5ce59a8-d55b-410a-8eb8-26cd2708d739"
      },
      "execution_count": 14,
      "outputs": [
        {
          "output_type": "execute_result",
          "data": {
            "text/plain": [
              "0.0"
            ]
          },
          "metadata": {},
          "execution_count": 14
        }
      ]
    },
    {
      "cell_type": "markdown",
      "source": [
        "\n",
        "\n",
        "---\n",
        "\n"
      ],
      "metadata": {
        "id": "dlY78HR2flQW"
      }
    },
    {
      "cell_type": "markdown",
      "source": [
        "**Question No.4**\n",
        "\n",
        "This Triangular Number Sequence is generated from a pattern of dots that form a triangle. The first 5 numbers of the sequence, or dots, are: \n",
        "\n",
        "1, 3, 6, 10, 15\n",
        "\n",
        "This means that the first triangle has just one dot, the second one has three dots, the third one has 6 dots and so on.\n",
        "\n",
        "Write a function that gives the number of dots with its corresponding triangle number of the sequence.\n",
        "\n",
        "Examples\n",
        "\n",
        "* triangle(1) ➞ 1\n",
        "\n",
        "* triangle(6) ➞ 21\n",
        "\n",
        "* triangle(215) ➞ 23220"
      ],
      "metadata": {
        "id": "hxyyM5KOi746"
      }
    },
    {
      "cell_type": "code",
      "source": [
        "def triangle(n):\n",
        "    return (n * (n + 1)) // 2"
      ],
      "metadata": {
        "id": "Xi8DwmgZfj5z"
      },
      "execution_count": 15,
      "outputs": []
    },
    {
      "cell_type": "code",
      "source": [
        "triangle(6)"
      ],
      "metadata": {
        "colab": {
          "base_uri": "https://localhost:8080/"
        },
        "id": "wLtJ-nfPjJRG",
        "outputId": "fd931f15-58ce-4350-a4d2-38b8ed362f5b"
      },
      "execution_count": 16,
      "outputs": [
        {
          "output_type": "execute_result",
          "data": {
            "text/plain": [
              "21"
            ]
          },
          "metadata": {},
          "execution_count": 16
        }
      ]
    },
    {
      "cell_type": "code",
      "source": [
        "triangle(215)"
      ],
      "metadata": {
        "colab": {
          "base_uri": "https://localhost:8080/"
        },
        "id": "dFXHtTvLjPZv",
        "outputId": "e8876042-a813-443c-b0de-abde7a498be3"
      },
      "execution_count": 17,
      "outputs": [
        {
          "output_type": "execute_result",
          "data": {
            "text/plain": [
              "23220"
            ]
          },
          "metadata": {},
          "execution_count": 17
        }
      ]
    },
    {
      "cell_type": "markdown",
      "source": [
        "\n",
        "\n",
        "---\n",
        "\n"
      ],
      "metadata": {
        "id": "9H0CDCFujUpc"
      }
    },
    {
      "cell_type": "markdown",
      "source": [
        "**Question No.5**\n",
        "\n",
        "Create a function that takes a list of numbers between 1 and 10 (excluding one number) and returns the missing number.\n",
        "\n",
        "Examples\n",
        "\n",
        "* missing_num([1, 2, 3, 4, 6, 7, 8, 9, 10]) ➞ 5\n",
        "\n",
        "* missing_num([7, 2, 3, 6, 5, 9, 1, 4, 8]) ➞ 10\n",
        "\n",
        "* missing_num([10, 5, 1, 2, 4, 6, 8, 3, 9]) ➞ 7\n"
      ],
      "metadata": {
        "id": "mOVOeubnjkXf"
      }
    },
    {
      "cell_type": "code",
      "source": [
        "def missing_num(lst) :\n",
        "    for i in range(1,11) :\n",
        "        if i not in lst :\n",
        "            return i"
      ],
      "metadata": {
        "id": "2xsJpflYjTAo"
      },
      "execution_count": 2,
      "outputs": []
    },
    {
      "cell_type": "code",
      "source": [
        "missing_num([1, 2, 3, 4, 6, 7, 8, 9, 10])"
      ],
      "metadata": {
        "colab": {
          "base_uri": "https://localhost:8080/"
        },
        "id": "nVlqAbbRKFpw",
        "outputId": "4f5de442-f478-4b79-83e0-5559e820d5e4"
      },
      "execution_count": 3,
      "outputs": [
        {
          "output_type": "execute_result",
          "data": {
            "text/plain": [
              "5"
            ]
          },
          "metadata": {},
          "execution_count": 3
        }
      ]
    },
    {
      "cell_type": "code",
      "source": [
        "missing_num([7, 2, 3, 6, 5, 9, 1, 4, 8]) "
      ],
      "metadata": {
        "colab": {
          "base_uri": "https://localhost:8080/"
        },
        "id": "P967IEoiKN3S",
        "outputId": "bd46dc60-0f2e-41c0-c49f-8e4b9937f68d"
      },
      "execution_count": 4,
      "outputs": [
        {
          "output_type": "execute_result",
          "data": {
            "text/plain": [
              "10"
            ]
          },
          "metadata": {},
          "execution_count": 4
        }
      ]
    },
    {
      "cell_type": "code",
      "source": [
        "missing_num([10, 5, 1, 2, 4, 6, 8, 3, 9])"
      ],
      "metadata": {
        "colab": {
          "base_uri": "https://localhost:8080/"
        },
        "id": "-_YWLBa8KQnX",
        "outputId": "fbeb3882-1546-410d-d269-60bf87b7a376"
      },
      "execution_count": 5,
      "outputs": [
        {
          "output_type": "execute_result",
          "data": {
            "text/plain": [
              "7"
            ]
          },
          "metadata": {},
          "execution_count": 5
        }
      ]
    },
    {
      "cell_type": "markdown",
      "source": [
        "\n",
        "\n",
        "---\n",
        "\n"
      ],
      "metadata": {
        "id": "lH_o40NsKUY-"
      }
    }
  ]
}